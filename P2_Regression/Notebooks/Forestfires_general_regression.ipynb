{
 "cells": [
  {
   "cell_type": "code",
   "execution_count": 1,
   "id": "ab4cb6d5-e9cf-4e34-a1ad-c17a874ca54f",
   "metadata": {},
   "outputs": [
    {
     "name": "stdout",
     "output_type": "stream",
     "text": [
      "Requirement already satisfied: pandas in c:\\users\\drysd\\anaconda3\\lib\\site-packages (2.1.4)\n",
      "Requirement already satisfied: openpyxl in c:\\users\\drysd\\anaconda3\\lib\\site-packages (3.0.10)\n",
      "Requirement already satisfied: numpy<2,>=1.23.2 in c:\\users\\drysd\\anaconda3\\lib\\site-packages (from pandas) (1.26.4)\n",
      "Requirement already satisfied: python-dateutil>=2.8.2 in c:\\users\\drysd\\anaconda3\\lib\\site-packages (from pandas) (2.8.2)\n",
      "Requirement already satisfied: pytz>=2020.1 in c:\\users\\drysd\\anaconda3\\lib\\site-packages (from pandas) (2023.3.post1)\n",
      "Requirement already satisfied: tzdata>=2022.1 in c:\\users\\drysd\\anaconda3\\lib\\site-packages (from pandas) (2023.3)\n",
      "Requirement already satisfied: et_xmlfile in c:\\users\\drysd\\anaconda3\\lib\\site-packages (from openpyxl) (1.1.0)\n",
      "Requirement already satisfied: six>=1.5 in c:\\users\\drysd\\anaconda3\\lib\\site-packages (from python-dateutil>=2.8.2->pandas) (1.16.0)\n"
     ]
    }
   ],
   "source": [
    "!pip install pandas openpyxl"
   ]
  },
  {
   "cell_type": "code",
   "execution_count": 2,
   "id": "70a5f1ab-fa6c-4293-ad1b-18eff9de0c20",
   "metadata": {},
   "outputs": [],
   "source": [
    "import pandas as pd\n",
    "import numpy as np\n",
    "import os\n",
    "import matplotlib.pyplot as plt\n",
    "from scipy.integrate import solve_ivp"
   ]
  },
  {
   "cell_type": "code",
   "execution_count": 4,
   "id": "35bd6311-acf5-4d7b-b439-da4b6ef1844e",
   "metadata": {},
   "outputs": [
    {
     "data": {
      "text/html": [
       "<div>\n",
       "<style scoped>\n",
       "    .dataframe tbody tr th:only-of-type {\n",
       "        vertical-align: middle;\n",
       "    }\n",
       "\n",
       "    .dataframe tbody tr th {\n",
       "        vertical-align: top;\n",
       "    }\n",
       "\n",
       "    .dataframe thead th {\n",
       "        text-align: right;\n",
       "    }\n",
       "</style>\n",
       "<table border=\"1\" class=\"dataframe\">\n",
       "  <thead>\n",
       "    <tr style=\"text-align: right;\">\n",
       "      <th></th>\n",
       "      <th>X</th>\n",
       "      <th>Y</th>\n",
       "      <th>month</th>\n",
       "      <th>day</th>\n",
       "      <th>FFMC</th>\n",
       "      <th>DMC</th>\n",
       "      <th>DC</th>\n",
       "      <th>ISI</th>\n",
       "      <th>temp</th>\n",
       "      <th>RH</th>\n",
       "      <th>wind</th>\n",
       "      <th>rain</th>\n",
       "      <th>area</th>\n",
       "    </tr>\n",
       "  </thead>\n",
       "  <tbody>\n",
       "    <tr>\n",
       "      <th>0</th>\n",
       "      <td>7</td>\n",
       "      <td>5</td>\n",
       "      <td>mar</td>\n",
       "      <td>fri</td>\n",
       "      <td>86.2</td>\n",
       "      <td>26.2</td>\n",
       "      <td>94.3</td>\n",
       "      <td>5.1</td>\n",
       "      <td>8.2</td>\n",
       "      <td>51</td>\n",
       "      <td>6.7</td>\n",
       "      <td>0.0</td>\n",
       "      <td>0.0</td>\n",
       "    </tr>\n",
       "    <tr>\n",
       "      <th>1</th>\n",
       "      <td>7</td>\n",
       "      <td>4</td>\n",
       "      <td>oct</td>\n",
       "      <td>tue</td>\n",
       "      <td>90.6</td>\n",
       "      <td>35.4</td>\n",
       "      <td>669.1</td>\n",
       "      <td>6.7</td>\n",
       "      <td>18.0</td>\n",
       "      <td>33</td>\n",
       "      <td>0.9</td>\n",
       "      <td>0.0</td>\n",
       "      <td>0.0</td>\n",
       "    </tr>\n",
       "    <tr>\n",
       "      <th>2</th>\n",
       "      <td>7</td>\n",
       "      <td>4</td>\n",
       "      <td>oct</td>\n",
       "      <td>sat</td>\n",
       "      <td>90.6</td>\n",
       "      <td>43.7</td>\n",
       "      <td>686.9</td>\n",
       "      <td>6.7</td>\n",
       "      <td>14.6</td>\n",
       "      <td>33</td>\n",
       "      <td>1.3</td>\n",
       "      <td>0.0</td>\n",
       "      <td>0.0</td>\n",
       "    </tr>\n",
       "    <tr>\n",
       "      <th>3</th>\n",
       "      <td>8</td>\n",
       "      <td>6</td>\n",
       "      <td>mar</td>\n",
       "      <td>fri</td>\n",
       "      <td>91.7</td>\n",
       "      <td>33.3</td>\n",
       "      <td>77.5</td>\n",
       "      <td>9.0</td>\n",
       "      <td>8.3</td>\n",
       "      <td>97</td>\n",
       "      <td>4.0</td>\n",
       "      <td>0.2</td>\n",
       "      <td>0.0</td>\n",
       "    </tr>\n",
       "    <tr>\n",
       "      <th>4</th>\n",
       "      <td>8</td>\n",
       "      <td>6</td>\n",
       "      <td>mar</td>\n",
       "      <td>sun</td>\n",
       "      <td>89.3</td>\n",
       "      <td>51.3</td>\n",
       "      <td>102.2</td>\n",
       "      <td>9.6</td>\n",
       "      <td>11.4</td>\n",
       "      <td>99</td>\n",
       "      <td>1.8</td>\n",
       "      <td>0.0</td>\n",
       "      <td>0.0</td>\n",
       "    </tr>\n",
       "  </tbody>\n",
       "</table>\n",
       "</div>"
      ],
      "text/plain": [
       "   X  Y month  day  FFMC   DMC     DC  ISI  temp  RH  wind  rain  area\n",
       "0  7  5   mar  fri  86.2  26.2   94.3  5.1   8.2  51   6.7   0.0   0.0\n",
       "1  7  4   oct  tue  90.6  35.4  669.1  6.7  18.0  33   0.9   0.0   0.0\n",
       "2  7  4   oct  sat  90.6  43.7  686.9  6.7  14.6  33   1.3   0.0   0.0\n",
       "3  8  6   mar  fri  91.7  33.3   77.5  9.0   8.3  97   4.0   0.2   0.0\n",
       "4  8  6   mar  sun  89.3  51.3  102.2  9.6  11.4  99   1.8   0.0   0.0"
      ]
     },
     "execution_count": 4,
     "metadata": {},
     "output_type": "execute_result"
    }
   ],
   "source": [
    "home_dir = os.path.expanduser(\"~\")\n",
    "file_path = os.path.join(home_dir,\"Documents\", \"Summer_Work\", \"P2_Regression\", \"Data\", \"forestfires.xlsx\")\n",
    "\n",
    "df = pd.read_excel(file_path)\n",
    "df.head()\n"
   ]
  },
  {
   "cell_type": "code",
   "execution_count": null,
   "id": "efdbd99d-8a97-4aa7-8beb-279b3cd0c565",
   "metadata": {},
   "outputs": [],
   "source": []
  },
  {
   "cell_type": "code",
   "execution_count": null,
   "id": "b48a7564-d189-42a2-81e3-7525dd5ab0e1",
   "metadata": {},
   "outputs": [],
   "source": [
    "## Plotting a simple regression line ##"
   ]
  },
  {
   "cell_type": "code",
   "execution_count": 58,
   "id": "b4bc35b4-157b-4351-af90-89883d39db61",
   "metadata": {},
   "outputs": [
    {
     "name": "stdout",
     "output_type": "stream",
     "text": [
      "Intercept (beta_0): 109.28754541729779\n",
      "Coefficient (beta_1): -2.7589712894977416\n",
      "The equation of the regression line is: y = 109.28754541729779 + -2.7589712894977416x\n",
      "R^2: 0.8428063287863298\n"
     ]
    },
    {
     "data": {
      "image/png": "[encoded data removed]",
      "text/plain": [
       "<Figure size 640x480 with 1 Axes>"
      ]
     },
     "metadata": {},
     "output_type": "display_data"
    },
    {
     "data": {
      "image/png": "[encoded data removed]",
      "text/plain": [
       "<Figure size 640x480 with 1 Axes>"
      ]
     },
     "metadata": {},
     "output_type": "display_data"
    }
   ],
   "source": [
    "\n",
    "\n",
    "x = np.array([5,7,8,7,2,10,2,9,4,11,12,9,6])\n",
    "y = np.array([99,86,87,88,111,86,103,87,94,78,77,85,86])\n",
    "\n",
    "# start with the parameters for the intercept (beta_0) and the slope (beta_1)\n",
    "beta_0 = 0\n",
    "beta_1 = 0\n",
    "\n",
    "# next define the Hyperparameters, learning rate (How big of a jump down the gradient you take) \n",
    "# and the number of iterations (how many times you change the parameters).\n",
    "learning_rate = 0.005\n",
    "num_iterations = 10000\n",
    "\n",
    "#number of data points\n",
    "m = len(y)\n",
    "cost_history = []\n",
    "\n",
    "# Gradient descent\n",
    "for _ in range(num_iterations):\n",
    "    # Compute predictions\n",
    "    y_pred = beta_0 + beta_1 * x\n",
    "    \n",
    "    # Compute the cost\n",
    "    cost = (1 / (2 * m)) * np.sum((y_pred - y) ** 2)\n",
    "    cost_history.append(cost)\n",
    "   \n",
    "    \n",
    "    # Compute gradients\n",
    "    gradient_0 = (1 / m) * np.sum(y_pred - y)\n",
    "    gradient_1 = (1 / m) * np.sum((y_pred - y) * x)\n",
    "    \n",
    "    # Update parameters\n",
    "    beta_0 -= learning_rate * gradient_0\n",
    "    beta_1 -= learning_rate * gradient_1\n",
    "\n",
    "# Final parameters\n",
    "print(f'Intercept (beta_0): {beta_0}')\n",
    "print(f'Coefficient (beta_1): {beta_1}')\n",
    "\n",
    "#regression line\n",
    "\n",
    "print(f'The equation of the regression line is: y = {beta_0} + {beta_1}x')\n",
    "\n",
    "# Compute R^2\n",
    "y_pred = beta_0 + beta_1 * x\n",
    "ss_total = np.sum((y - np.mean(y)) ** 2)\n",
    "ss_residual = np.sum((y - y_pred) ** 2)\n",
    "r_squared = 1 - (ss_residual / ss_total)\n",
    "\n",
    "print(f'R^2: {r_squared}')\n",
    "\n",
    "# Plot the data and the regression line\n",
    "plt.scatter(x, y, color='blue', label='Data points')\n",
    "plt.plot(x, beta_0 + beta_1 * x, color='red', label='Regression line')\n",
    "plt.xlabel('x')\n",
    "plt.ylabel('y')\n",
    "plt.title('Linear Regression')\n",
    "plt.legend()\n",
    "plt.show()\n",
    "\n",
    "plt.plot(range(num_iterations), cost_history)\n",
    "plt.xlabel('Iteration')\n",
    "plt.ylabel('Cost')\n",
    "plt.yscale('log')\n",
    "plt.title('Cost Function Convergence')\n",
    "plt.show()\n"
   ]
  },
  {
   "cell_type": "code",
   "execution_count": 51,
   "id": "9756d9aa-8c9d-4b4c-b064-39e61580f861",
   "metadata": {},
   "outputs": [
    {
     "name": "stdout",
     "output_type": "stream",
     "text": [
      "87.117\n"
     ]
    }
   ],
   "source": [
    "# try it out. try and predict a data point...\n",
    "when_x = 8\n",
    "y = beta_0 + beta_1 * when_x\n",
    "print(y.round(3))\n",
    "# Yeh so pretty good prediction"
   ]
  },
  {
   "cell_type": "code",
   "execution_count": null,
   "id": "fbc58703-5731-4463-b263-597b5e9d0b38",
   "metadata": {},
   "outputs": [],
   "source": []
  },
  {
   "cell_type": "code",
   "execution_count": 28,
   "id": "38d167cc-cb18-4f5b-b9a7-5b4485520d2e",
   "metadata": {},
   "outputs": [],
   "source": [
    "### Regression for more than one feature, does it change? ###"
   ]
  },
  {
   "cell_type": "code",
   "execution_count": 52,
   "id": "484535c3-4a51-4991-84d7-ae98a0c2a28d",
   "metadata": {},
   "outputs": [
    {
     "name": "stdout",
     "output_type": "stream",
     "text": [
      "Intercept (beta_0): 102.83011612944954\n",
      "Coefficient (beta_1): -0.9429867250862521\n",
      "Coefficient (beta_2): -2.440221129347311\n",
      "The equation of the regression line is: y = 102.83011612944954 + -0.9429867250862521x1 + -2.440221129347311x2\n"
     ]
    },
    {
     "data": {
      "image/png": "[encoded data removed]",
      "text/plain": [
       "<Figure size 640x480 with 1 Axes>"
      ]
     },
     "metadata": {},
     "output_type": "display_data"
    }
   ],
   "source": [
    "import numpy as np\n",
    "\n",
    "# Sample data with two features\n",
    "feature_1 = np.array([5, 7, 8, 7, 2, 17, 2, 9, 4, 11, 12, 9, 6])\n",
    "feature_2 = np.array([1, 2, 3, 2, 1, 5, 1, 3, 1, 4, 4, 3, 2])\n",
    "y = np.array([99, 86, 87, 88, 111, 86, 103, 87, 94, 78, 77, 85, 86])\n",
    "\n",
    "# Combine the features into a single matrix X (not relevant for this method)\n",
    "X = np.vstack((feature_1, feature_2)).T\n",
    "\n",
    "## Just going to try with the old method\n",
    "# start with the parameters for the intercept (beta_0) and the slope (beta_1)\n",
    "beta_0 = 0\n",
    "beta_1 = 0\n",
    "beta_2 = 0\n",
    "\n",
    "# next define the Hyperparameters, learning rate (How big of a jump down the gradient you take) \n",
    "# and the number of iterations (how many times you change the parameters).\n",
    "learning_rate = 0.005\n",
    "num_iterations = 5000\n",
    "\n",
    "m = len(y)\n",
    "cost_history = []\n",
    "\n",
    "# Gradient descent\n",
    "for _ in range(num_iterations):\n",
    "    # Compute predictions\n",
    "    y_pred = beta_0 + beta_1 * feature_1 + beta_2 * feature_2\n",
    "    \n",
    "    # Compute the cost\n",
    "    cost = (1 / (2 * m)) * np.sum((y_pred - y) ** 2)\n",
    "    cost_history.append(cost)\n",
    "    \n",
    "    # Compute gradients\n",
    "    gradient_0 = (1 / m) * np.sum(y_pred - y)\n",
    "    gradient_1 = (1 / m) * np.sum((y_pred - y) * feature_1)\n",
    "    gradient_2 = (1 / m) * np.sum((y_pred - y) * feature_2)\n",
    "    \n",
    "    # Update parameters\n",
    "    beta_0 -= learning_rate * gradient_0\n",
    "    beta_1 -= learning_rate * gradient_1\n",
    "    beta_2 -= learning_rate * gradient_2\n",
    "\n",
    "# Final parameters\n",
    "print(f'Intercept (beta_0): {beta_0}')\n",
    "print(f'Coefficient (beta_1): {beta_1}')\n",
    "print(f'Coefficient (beta_2): {beta_2}')\n",
    "\n",
    "\n",
    "#regression line\n",
    "\n",
    "print(f'The equation of the regression line is: y = {beta_0} + {beta_1}x1 + {beta_2}x2')\n",
    "\n",
    "# Compute R^2\n",
    "#y_pred = beta_0 + beta_1 * x\n",
    "#ss_total = np.sum((y - np.mean(y)) ** 2)\n",
    "#ss_residual = np.sum((y - y_pred) ** 2)\n",
    "#r_squared = 1 - (ss_residual / ss_total)\n",
    "\n",
    "#print(f'R^2: {r_squared}')\n",
    "\n",
    "# Plot the data and the regression line\n",
    "\n",
    "\n",
    "plt.plot(range(num_iterations), cost_history)\n",
    "plt.xlabel('Iteration')\n",
    "plt.ylabel('Cost')\n",
    "plt.title('Cost Function Convergence')\n",
    "plt.show()"
   ]
  },
  {
   "cell_type": "code",
   "execution_count": 54,
   "id": "cc8a1abb-e33a-4b13-88c4-007c0ce90451",
   "metadata": {},
   "outputs": [
    {
     "data": {
      "text/plain": [
       "95.67496137467097"
      ]
     },
     "execution_count": 54,
     "metadata": {},
     "output_type": "execute_result"
    }
   ],
   "source": [
    "# lets see if our model predicts pretty well?\n",
    "y = beta_0 + beta_1 * feature_1[0] + beta_2 * feature_2[0]\n",
    "y\n",
    "# yeh so relatively good"
   ]
  },
  {
   "cell_type": "code",
   "execution_count": null,
   "id": "f044a10e-8b2b-44b7-9774-331bbd4b0555",
   "metadata": {},
   "outputs": [],
   "source": [
    "## we can improve the writing for the code using vectorization ##"
   ]
  },
  {
   "cell_type": "code",
   "execution_count": null,
   "id": "4c3690e0-5061-41d6-a714-801e37c07d50",
   "metadata": {},
   "outputs": [],
   "source": []
  }
 ],
 "metadata": {
  "kernelspec": {
   "display_name": "Python (base)",
   "language": "python",
   "name": "base"
  },
  "language_info": {
   "codemirror_mode": {
    "name": "ipython",
    "version": 3
   },
   "file_extension": ".py",
   "mimetype": "text/x-python",
   "name": "python",
   "nbconvert_exporter": "python",
   "pygments_lexer": "ipython3",
   "version": "3.11.7"
  }
 },
 "nbformat": 4,
 "nbformat_minor": 5
}
