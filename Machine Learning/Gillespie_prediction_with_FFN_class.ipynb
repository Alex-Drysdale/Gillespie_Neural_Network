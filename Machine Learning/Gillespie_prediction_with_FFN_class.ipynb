{
 "cells": [
  {
   "cell_type": "code",
   "execution_count": 5,
   "id": "582ba76b-d982-40c7-9247-ba5f0965f58c",
   "metadata": {},
   "outputs": [],
   "source": [
    "import numpy as np\n",
    "import matplotlib.pyplot as plt\n",
    "from FFN_class_importable import FFN"
   ]
  },
  {
   "cell_type": "code",
   "execution_count": null,
   "id": "68586db6-6a9b-4e12-9867-e02555df6b7f",
   "metadata": {},
   "outputs": [],
   "source": [
    "### start by developing your data set "
   ]
  },
  {
   "cell_type": "code",
   "execution_count": 6,
   "id": "7a8a29d8-c3b3-4c82-b787-5ff2b34824e9",
   "metadata": {},
   "outputs": [
    {
     "ename": "TypeError",
     "evalue": "FFN.__init__() missing 6 required positional arguments: 'output_data', 'hidden_layers', 'activation_functions', 'epochs', 'learning_rate', and 'batch_size'",
     "output_type": "error",
     "traceback": [
      "\u001b[1;31m---------------------------------------------------------------------------\u001b[0m",
      "\u001b[1;31mTypeError\u001b[0m                                 Traceback (most recent call last)",
      "Cell \u001b[1;32mIn[6], line 1\u001b[0m\n\u001b[1;32m----> 1\u001b[0m gillespie \u001b[38;5;241m=\u001b[39m FFN(\u001b[38;5;124m\"\u001b[39m\u001b[38;5;124mdog\u001b[39m\u001b[38;5;124m\"\u001b[39m)\n",
      "\u001b[1;31mTypeError\u001b[0m: FFN.__init__() missing 6 required positional arguments: 'output_data', 'hidden_layers', 'activation_functions', 'epochs', 'learning_rate', and 'batch_size'"
     ]
    }
   ],
   "source": [
    "gillespie = FFN(\"dog\")"
   ]
  }
 ],
 "metadata": {
  "kernelspec": {
   "display_name": "Python (base)",
   "language": "python",
   "name": "base"
  },
  "language_info": {
   "codemirror_mode": {
    "name": "ipython",
    "version": 3
   },
   "file_extension": ".py",
   "mimetype": "text/x-python",
   "name": "python",
   "nbconvert_exporter": "python",
   "pygments_lexer": "ipython3",
   "version": "3.11.7"
  }
 },
 "nbformat": 4,
 "nbformat_minor": 5
}
