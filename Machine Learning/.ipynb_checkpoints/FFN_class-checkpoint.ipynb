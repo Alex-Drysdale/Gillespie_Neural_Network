{
 "cells": [
  {
   "cell_type": "code",
   "execution_count": 1,
   "id": "b591e6e2-861a-40b0-a612-398c7d06af0b",
   "metadata": {},
   "outputs": [],
   "source": [
    "import numpy as np\n",
    "import os\n",
    "import matplotlib.pyplot as plt"
   ]
  },
  {
   "cell_type": "code",
   "execution_count": null,
   "id": "71cc35aa-a0d0-40cd-94bc-985364bca6a2",
   "metadata": {},
   "outputs": [],
   "source": [
    "#sample data sets\n",
    "\n",
    "X_train = np.random.uniform(-1, 1, (5, 20)) #25, 20, 5\n",
    "Y_train = np.random.uniform(0, 1, (2, 20)) # 25, 20, 2"
   ]
  },
  {
   "cell_type": "code",
   "execution_count": null,
   "id": "c2ae7711-e3a2-446d-b1a8-9902e30f72dc",
   "metadata": {},
   "outputs": [],
   "source": [
    "# create the class FFN:\n",
    "# a time stepper that takes in (input_data, output_data, hidden_layers, activation_function, "
   ]
  }
 ],
 "metadata": {
  "kernelspec": {
   "display_name": "Python (base)",
   "language": "python",
   "name": "base"
  },
  "language_info": {
   "codemirror_mode": {
    "name": "ipython",
    "version": 3
   },
   "file_extension": ".py",
   "mimetype": "text/x-python",
   "name": "python",
   "nbconvert_exporter": "python",
   "pygments_lexer": "ipython3",
   "version": "3.11.7"
  }
 },
 "nbformat": 4,
 "nbformat_minor": 5
}
