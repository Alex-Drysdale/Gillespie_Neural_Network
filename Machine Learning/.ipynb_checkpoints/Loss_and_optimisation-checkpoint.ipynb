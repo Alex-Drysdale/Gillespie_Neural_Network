{
 "cells": [
  {
   "cell_type": "code",
   "execution_count": 4,
   "id": "bb845f9e-04e7-4453-9d24-598b768ab2db",
   "metadata": {},
   "outputs": [
    {
     "name": "stdout",
     "output_type": "stream",
     "text": [
      "True\n"
     ]
    }
   ],
   "source": [
    "import math\n",
    "\n",
    "softmax_output = [0.7, 0.1, 0.2]\n",
    "target_class = 0\n",
    "target_output = [1, 0, 0]\n",
    "# see onenote for what this means.\n",
    "\n",
    "loss1 = -(math.log(softmax_output[0]) * target_output[0] +\n",
    "         math.log(softmax_output[1]) * target_output[1] +\n",
    "         math.log(softmax_output[2]) * target_output[2])\n",
    "\n",
    "# but because the other values are just zero we only need to write the first addition\n",
    "\n",
    "loss = -(math.log(softmax_output[0]) * target_output[0])\n",
    "\n",
    "print(loss1 == loss)\n"
   ]
  },
  {
   "cell_type": "code",
   "execution_count": null,
   "id": "a272e0e0-48f7-4d68-9f2a-5d10f7e18c69",
   "metadata": {},
   "outputs": [],
   "source": []
  }
 ],
 "metadata": {
  "kernelspec": {
   "display_name": "Python (base)",
   "language": "python",
   "name": "base"
  },
  "language_info": {
   "codemirror_mode": {
    "name": "ipython",
    "version": 3
   },
   "file_extension": ".py",
   "mimetype": "text/x-python",
   "name": "python",
   "nbconvert_exporter": "python",
   "pygments_lexer": "ipython3",
   "version": "3.11.7"
  }
 },
 "nbformat": 4,
 "nbformat_minor": 5
}
