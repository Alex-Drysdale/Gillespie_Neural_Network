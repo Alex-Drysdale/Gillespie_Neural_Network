{
 "cells": [
  {
   "cell_type": "code",
   "execution_count": null,
   "id": "cdb65193-a360-4dca-9866-1e5d94a9790a",
   "metadata": {},
   "outputs": [],
   "source": [
    "# import stuff\n",
    "import numpy as np\n",
    "import os\n",
    "import matplotlib.pyplot as plt\n",
    "from scipy.integrate import solve_ivp"
   ]
  },
  {
   "cell_type": "code",
   "execution_count": 1,
   "id": "3e51ea43-a410-4c91-b12b-c917ae2d8a16",
   "metadata": {},
   "outputs": [],
   "source": [
    "## lets try and make neural network class\n",
    "# input_data, output_data, [number of neurons and size], activation_function, epochs, learning_rate,  \n",
    "# optomizers: ADAMW\n",
    "class Neural_Network:\n",
    "    def __init__(self, input_data, output_data, hidden_layers, activation_function, epochs, learning_rate, optimizers, loss_function, bathc_size):\n",
    "        pass\n",
    "\n",
    "## methods: build, train,\n",
    "## new work done"
   ]
  },
  {
   "cell_type": "code",
   "execution_count": null,
   "id": "0328cefb-22fa-4d49-8dcf-e58085c38630",
   "metadata": {},
   "outputs": [],
   "source": []
  }
 ],
 "metadata": {
  "kernelspec": {
   "display_name": "Python (base)",
   "language": "python",
   "name": "base"
  },
  "language_info": {
   "codemirror_mode": {
    "name": "ipython",
    "version": 3
   },
   "file_extension": ".py",
   "mimetype": "text/x-python",
   "name": "python",
   "nbconvert_exporter": "python",
   "pygments_lexer": "ipython3",
   "version": "3.11.7"
  }
 },
 "nbformat": 4,
 "nbformat_minor": 5
}
